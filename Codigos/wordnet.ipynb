{
 "cells": [
  {
   "cell_type": "markdown",
   "metadata": {},
   "source": [
    "## importemos librerias"
   ]
  },
  {
   "cell_type": "code",
   "execution_count": 5,
   "metadata": {},
   "outputs": [
    {
     "name": "stderr",
     "output_type": "stream",
     "text": [
      "[nltk_data] Downloading package omw-1.4 to\n",
      "[nltk_data]     C:\\Users\\juanc\\AppData\\Roaming\\nltk_data...\n",
      "[nltk_data] Downloading package wordnet to\n",
      "[nltk_data]     C:\\Users\\juanc\\AppData\\Roaming\\nltk_data...\n",
      "[nltk_data]   Package wordnet is already up-to-date!\n"
     ]
    }
   ],
   "source": [
    "import nltk\n",
    "nltk.download('omw-1.4')\n",
    "nltk.download('wordnet')\n",
    "from nltk.corpus import wordnet as wn"
   ]
  },
  {
   "cell_type": "code",
   "execution_count": 7,
   "metadata": {},
   "outputs": [
    {
     "data": {
      "text/plain": [
       "[Synset('car.n.01'),\n",
       " Synset('carriage.n.04'),\n",
       " Synset('carrier.n.02'),\n",
       " Synset('cart.n.01'),\n",
       " Synset('chariot.n.02'),\n",
       " Synset('cartload.n.01')]"
      ]
     },
     "execution_count": 7,
     "metadata": {},
     "output_type": "execute_result"
    }
   ],
   "source": [
    "ss = wn.synsets('carro',lang = 'spa')\n",
    "ss"
   ]
  },
  {
   "cell_type": "code",
   "execution_count": 8,
   "metadata": {},
   "outputs": [
    {
     "name": "stdout",
     "output_type": "stream",
     "text": [
      "car.n.01 : a motor vehicle with four wheels; usually propelled by an internal combustion engine\n",
      "carriage.n.04 : a machine part that carries something else\n",
      "carrier.n.02 : a self-propelled wheeled vehicle designed specifically to carry something\n",
      "cart.n.01 : a heavy open wagon usually having two wheels and drawn by an animal\n",
      "chariot.n.02 : a two-wheeled horse-drawn battle vehicle; used in war and races in ancient Egypt and Greece and Rome\n",
      "cartload.n.01 : the quantity that a cart holds\n"
     ]
    }
   ],
   "source": [
    "for syn in ss:\n",
    "    print(syn.name(), ':', syn.definition())"
   ]
  },
  {
   "cell_type": "code",
   "execution_count": 9,
   "metadata": {},
   "outputs": [
    {
     "ename": "AttributeError",
     "evalue": "'list' object has no attribute 'lemmas'",
     "output_type": "error",
     "traceback": [
      "\u001b[1;31m---------------------------------------------------------------------------\u001b[0m",
      "\u001b[1;31mAttributeError\u001b[0m                            Traceback (most recent call last)",
      "Cell \u001b[1;32mIn[9], line 1\u001b[0m\n\u001b[1;32m----> 1\u001b[0m translations \u001b[38;5;241m=\u001b[39m \u001b[43mss\u001b[49m\u001b[38;5;241;43m.\u001b[39;49m\u001b[43mlemmas\u001b[49m(\u001b[38;5;124m'\u001b[39m\u001b[38;5;124mspa\u001b[39m\u001b[38;5;124m'\u001b[39m)\n",
      "\u001b[1;31mAttributeError\u001b[0m: 'list' object has no attribute 'lemmas'"
     ]
    }
   ],
   "source": [
    "translations = ss.lemmas('spa')"
   ]
  },
  {
   "cell_type": "code",
   "execution_count": 13,
   "metadata": {},
   "outputs": [
    {
     "name": "stdout",
     "output_type": "stream",
     "text": [
      "['can', 'perro']\n"
     ]
    }
   ],
   "source": [
    "# Busca un synset en inglés y obtiene su traducción\n",
    "synset = wn.synset('dog.n.01')\n",
    "translations = synset.lemmas('spa')  # Obtén las traducciones al español\n",
    "print([lemma.name() for lemma in translations])"
   ]
  },
  {
   "cell_type": "code",
   "execution_count": 15,
   "metadata": {},
   "outputs": [
    {
     "name": "stdout",
     "output_type": "stream",
     "text": [
      "Synsets asociados a la palabra 'carro' en español:\n",
      "- Synset: car.n.01\n",
      "  Palabras asociadas (lemmas) en español: ['auto', 'automóvil', 'carro', 'coche', 'máquina', 'turismo', 'vehículo']\n",
      "- Synset: carriage.n.04\n",
      "  Palabras asociadas (lemmas) en español: ['carro']\n",
      "- Synset: carrier.n.02\n",
      "  Palabras asociadas (lemmas) en español: ['carro']\n",
      "- Synset: cart.n.01\n",
      "  Palabras asociadas (lemmas) en español: ['carro']\n",
      "- Synset: chariot.n.02\n",
      "  Palabras asociadas (lemmas) en español: ['carro']\n",
      "- Synset: cartload.n.01\n",
      "  Palabras asociadas (lemmas) en español: ['carro', 'viaje']\n"
     ]
    }
   ],
   "source": [
    "# Buscar synsets en español para \"carro\"\n",
    "word = \"carro\"\n",
    "synsets = wn.synsets(word, lang='spa')  # Busca synsets en español\n",
    "\n",
    "# Mostrar solo los lemmas en español asociados\n",
    "print(f\"Synsets asociados a la palabra '{word}' en español:\")\n",
    "for synset in synsets:\n",
    "    lemmas = [lemma.name() for lemma in synset.lemmas('spa')]\n",
    "    print(f\"- Synset: {synset.name()}\")\n",
    "    print(f\"  Palabras asociadas (lemmas) en español: {lemmas}\")"
   ]
  },
  {
   "cell_type": "code",
   "execution_count": null,
   "metadata": {},
   "outputs": [],
   "source": []
  }
 ],
 "metadata": {
  "kernelspec": {
   "display_name": "fundamentos_NLP",
   "language": "python",
   "name": "python3"
  },
  "language_info": {
   "codemirror_mode": {
    "name": "ipython",
    "version": 3
   },
   "file_extension": ".py",
   "mimetype": "text/x-python",
   "name": "python",
   "nbconvert_exporter": "python",
   "pygments_lexer": "ipython3",
   "version": "3.9.21"
  }
 },
 "nbformat": 4,
 "nbformat_minor": 2
}
